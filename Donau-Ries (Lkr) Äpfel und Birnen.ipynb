{
 "cells": [
  {
   "cell_type": "raw",
   "id": "ebecdeed-eae0-4024-bc50-25c40b046b20",
   "metadata": {},
   "source": [
    "Donau-Ries (Lkr): Äpfel und Birnen"
   ]
  },
  {
   "cell_type": "raw",
   "id": "ac517a1d-1bb1-4fce-b753-3bf8ed08f42f",
   "metadata": {
    "vscode": {
     "languageId": "raw"
    }
   },
   "source": [
    "Der Datensatz enthält Informationen zu besonderen Apfel- und Birnensorten in Nordschwaben, die im Rahmen eines LEADER-Projekts von 2016 bis 2020 erfasst wurden.\n",
    "Dokumentiert wurden Sortenvielfalt, Verbreitung, Häufigkeit und Gefährdungsstatus von rund 400???(173) historischen Obstsorten in den Landkreisen\n",
    "Donau-Ries, Neu-Ulm, Augsburg und Aichach-Friedberg. Ziel ist der Erhalt genetischer Vielfalt und regionaler Kultursorten durch fundierte Bestandsaufnahme und Dokumentation."
   ]
  },
  {
   "cell_type": "markdown",
   "id": "33d2b8d7-54ec-42e4-bdb7-ba95dd972432",
   "metadata": {},
   "source": [
    "quelle : https://www.govdata.de/suche/daten/donau-ries-lkr-apfel-und-birnen"
   ]
  },
  {
   "cell_type": "code",
   "execution_count": 33,
   "id": "08952583-ee83-4434-a61d-3d60ed3d813c",
   "metadata": {},
   "outputs": [],
   "source": [
    "import requests\n",
    "\n",
    "url = \"https://fms.donau-ries.de/formcycle/datenabfragedb?mandantName=LRA-Donau-Ries&name=aepfel-und-birnen\"\n",
    "\n",
    "# Anfrage schicken\n",
    "response = requests.get(url)\n",
    "\n",
    "# prüfen ob alles ok war\n",
    "if response.status_code == 200:\n",
    "    data = response.json()   # JSON direkt als Python-Dict/Liste\n",
    "    #print(data['result'])\n",
    "else:\n",
    "    print(\"Fehler beim Abrufen:\", response.status_code)\n",
    "\n"
   ]
  },
  {
   "cell_type": "code",
   "execution_count": 34,
   "id": "2e532db5-7fc9-4fae-8a95-d1e6648a615d",
   "metadata": {},
   "outputs": [],
   "source": [
    "from bs4 import BeautifulSoup\n",
    "ls_keys = [\"geschichte\", \"frucht\", \"reifezeit\", \"standort\", \"anfälligkeit\", \"blüte\", \"sonstiges\" ]\n",
    "alle_sorten = {}\n",
    "number  = 0\n",
    "for eintrag in data[\"result\"]:\n",
    "    alias = eintrag[\"alias\"]\n",
    "    \n",
    "    html_text = eintrag[\"text_inhalt\"]\n",
    "    #quellen = eintrag.get(\"quellen\", \"\")\n",
    "\n",
    "    soup = BeautifulSoup(html_text, \"html.parser\")\n",
    "\n",
    "    sorten_dict = {}\n",
    "    current_key = None\n",
    "    #print(soup)\n",
    "    for tag in soup.find_all(\"p\"):\n",
    "        text = tag.get_text(strip=True)\n",
    "        #print(tag)\n",
    "        # Neue Sektion wenn <strong> drin ist\n",
    "        if tag.find(\"strong\"):\n",
    "            current_key = text.replace(\":\", \"\").lower()\n",
    "            if current_key==\"früchte\":\n",
    "                current_key=\"frucht\"\n",
    "            if current_key==\"früchte\":\n",
    "                current_key=\"frucht\"\n",
    "            sorten_dict[current_key] = \"\"\n",
    "        else:\n",
    "            if current_key:\n",
    "                if sorten_dict[current_key]:\n",
    "                    sorten_dict[current_key] += \" \" + text\n",
    "                else:\n",
    "                    sorten_dict[current_key] = text\n",
    "    sorten_dict[\"ind\"] = number\n",
    "    alle_sorten[alias] = sorten_dict\n",
    "    number += 1\n",
    "#print(alle_sorten[\"blauapfel\"])\n",
    "#alle_sorten[\"horneburger-pfannkuchenapfel\"]\n",
    "\n",
    "#alle_sorten[\"suesskirsche-skeena\"]"
   ]
  },
  {
   "cell_type": "code",
   "execution_count": 35,
   "id": "5deabf07-4e9e-44de-aa38-893ce15268e6",
   "metadata": {},
   "outputs": [],
   "source": [
    "\n",
    "LS_KEYS = [\"geschichte\", \"frucht\", \"reifezeit\", \"standort\", \"anfälligkeit\", \"blüte\", \"sonstiges\", \"ind\"]\n",
    "alle_sorten_cleaned  = {}\n",
    "sorten_cleaned  = {}\n",
    "for key, value in alle_sorten.items():\n",
    "    \n",
    "    for ke, val in value.items():\n",
    "        if ke in LS_KEYS:\n",
    "            sorten_cleaned[ke]= val\n",
    "            continue\n",
    "        else:\n",
    "            for wort in LS_KEYS:\n",
    "                if ke.startswith(wort):\n",
    "                    sorten_cleaned[wort] =  ke[len(wort)::] \n",
    "                else:\n",
    "                    continue\n",
    "    alle_sorten_cleaned[key] = sorten_cleaned\n",
    "    sorten_cleaned  = {}\n",
    "\n"
   ]
  },
  {
   "cell_type": "code",
   "execution_count": 36,
   "id": "3e9d6915-4353-49fb-b94d-be8f09f5f3db",
   "metadata": {},
   "outputs": [],
   "source": [
    "import pandas as pd\n",
    "df = pd.DataFrame(alle_sorten_cleaned)\n",
    "df  = df.T\n",
    "lss = df[df[\"anfälligkeit\"].notna()][\"anfälligkeit\"].tolist()\n",
    "lsn = df[df[\"anfälligkeit\"].notna()][\"ind\"].tolist()\n",
    "\n",
    "anf = dict(zip(lsn,lss))"
   ]
  },
  {
   "cell_type": "code",
   "execution_count": 37,
   "id": "4f4c2fd5-4450-4130-914f-521a89acc319",
   "metadata": {},
   "outputs": [],
   "source": [
    "import re\n",
    "Feuerbrand_filtered = {}\n",
    "for i, s in anf.items():\n",
    "    if \"feuer\" in anf[i].lower():\n",
    "        for st in re.split(r\"[,.]\", anf[i]):\n",
    "           if \"feuer\" in st.lower():\n",
    "                Feuerbrand_filtered[i] = st "
   ]
  },
  {
   "cell_type": "code",
   "execution_count": 38,
   "id": "d7dc64b1-2442-480d-8804-ff9ef3eafad2",
   "metadata": {},
   "outputs": [
    {
     "data": {
      "text/plain": [
       "{0: 'Feuerbrand',\n",
       " 1: 'Stark Feuerbrand gefährdet',\n",
       " 2: 'Stark anfällig für Feuerbrand',\n",
       " 3: ' Mittelanfällig für Feuerbrand',\n",
       " 4: 'Mittelstark anfällig für Feuerbrand',\n",
       " 8: 'Stark Feuerbrand gefährdet',\n",
       " 9: 'Geringe Feuerbrandanfälligkeit',\n",
       " 13: ' Wenig feuerbrandgefährdet',\n",
       " 19: ' Mittelstark anfällig für Feuerbrand',\n",
       " 22: 'Stark Feuerbrandgefährdet',\n",
       " 23: 'Stark Feuerbrand',\n",
       " 24: 'Stark Feuerbrand gefährdet',\n",
       " 25: ' Mittelstark Feuerbrand gefährdet',\n",
       " 29: 'Stark feuerbrand- und mehltauanfällig',\n",
       " 30: ' Widerstandsfähig gegen Feuerbrand',\n",
       " 31: 'Stark Feuerbrand gefährdet',\n",
       " 32: 'Stark Feuerbrand und Obstbaumkrebs gefährdet',\n",
       " 35: 'Gering Feuerbrand gefährdet',\n",
       " 36: 'Mittelstark Feuerbrand gefährdet',\n",
       " 37: 'Mittelstark Feuerbrand gefährdet',\n",
       " 41: 'Geringe Feuerbrandgefahr',\n",
       " 43: 'Stark Feuerbrandgefährdet',\n",
       " 44: 'Bei Temperaturschwankungen auf Feuerbrand achten',\n",
       " 45: 'Feuerbrand gefährdet',\n",
       " 50: 'Wenig Feuerbrand und Schorf gefährdet',\n",
       " 53: 'Mittelstark Feuerbrand gefährdet',\n",
       " 55: ' Wenig anfällig für Feuerbrand und Obstbaumkrebs',\n",
       " 57: 'Mäßig Feuerbrand gefährdet',\n",
       " 58: 'Stark Feuerbrand gefährdet',\n",
       " 61: 'Stark Feuerbrand',\n",
       " 62: 'Wenig Feuerbrand gefährdet',\n",
       " 63: 'Stark Feuerbrand gefährdet',\n",
       " 64: 'Geringe Feuerbrand Gefahr',\n",
       " 66: 'Es kann Feuerbrand auftreten',\n",
       " 69: 'Mittelstark Feuerbrand gefährdet',\n",
       " 71: 'Gering Feuerbrand gefährdet',\n",
       " 72: 'Wenig Feuerbrand und Schorf gefährdet',\n",
       " 81: 'In warmen Lagen stark Feuerbrand gefährdet',\n",
       " 82: 'Sehr stark Feuerbrand gefährdet',\n",
       " 85: 'Stark Feuerbrand gefährdet',\n",
       " 86: 'Sehr stark Feuerbrand gefährdet',\n",
       " 88: 'Feuerbrandresistent',\n",
       " 89: ' Nur wenig Feuerbrand gefährdet',\n",
       " 91: 'Feuerbrand und Bakterienbrand gefährdet',\n",
       " 92: 'Sehr stark Feuerbrand gefährdet',\n",
       " 95: 'Stark Feuerbrand und Schorf gefährdet',\n",
       " 98: 'Kaum Feuerbrand oder Schorf gefährdet',\n",
       " 99: 'Sehr stark Feuerbrand gefährdet',\n",
       " 101: 'Mittlere Feuerbrandgefährdung',\n",
       " 109: 'Stark anfällig für Feuerbrand und Bakterienbrand',\n",
       " 113: ' Gering anfällig für Feuerbrand',\n",
       " 115: 'Stark anfällig für Feuerbrand und Mehltau',\n",
       " 118: 'Stark anfällig für Feuerbrand',\n",
       " 122: ' Wegen Nachblüher auf Feuerbrand achten',\n",
       " 135: 'Stark anfällig für Feuerbrand',\n",
       " 136: 'Besonders anfällig für Feuerbrand',\n",
       " 137: 'Anfällig für Feuerbrand und Birnenverfall (Bakterienkrankheiten)',\n",
       " 138: 'Hoch anfällig für Feuerbrand',\n",
       " 139: 'Hoch anfällig für Feuerbrand',\n",
       " 140: ' Stark anfällig für Feuerbrand',\n",
       " 142: 'Sehr stark anfällig für Feuerbrand',\n",
       " 143: 'Hoch anfällig für Feuerbrand',\n",
       " 144: 'Stark anfällig für Schorf und mittelstark anfällig für Feuerbrand',\n",
       " 145: ' Stark anfällig für Feuerbrand',\n",
       " 146: 'Etwas anfällig für Blattschorf (Früchte nicht) und Feuerbrand',\n",
       " 147: ' Feuerbrandresistent',\n",
       " 149: 'Kaum anfällig für Schorf und nur wenig anfällig für Feuerbrand und Virosen',\n",
       " 150: 'Kaum anfällig für Feuerbrand',\n",
       " 152: 'Mittelstark anfällig für Feuerbrand',\n",
       " 153: 'Stark anfällig für Feuerbrand v',\n",
       " 154: 'Mittelstark anfällig für Feuerbrand und Schorf',\n",
       " 155: 'Sehr stark anfällig für Feuerbrand und anfällig für Blatt- und Fruchtschorf',\n",
       " 161: 'Stark anfällig für Feuerbrand',\n",
       " 172: ' die kaum Schorf und wenig Feuerbrand anfällig ist'}"
      ]
     },
     "execution_count": 38,
     "metadata": {},
     "output_type": "execute_result"
    }
   ],
   "source": [
    "Feuerbrand_filtered\n",
    "# gibt es einen unterschied zwischen gefährdet und anfällig?\n",
    "# Wie kann man das Feuerbrandgefahr einstufen?"
   ]
  },
  {
   "cell_type": "code",
   "execution_count": 39,
   "id": "74b6b60b-9a5e-4990-8071-7c9cb76f019c",
   "metadata": {},
   "outputs": [
    {
     "name": "stdout",
     "output_type": "stream",
     "text": [
      "<class 'pandas.core.frame.DataFrame'>\n",
      "Index: 173 entries, alkmene to birne-uta\n",
      "Data columns (total 8 columns):\n",
      " #   Column        Non-Null Count  Dtype \n",
      "---  ------        --------------  ----- \n",
      " 0   geschichte    166 non-null    object\n",
      " 1   frucht        172 non-null    object\n",
      " 2   reifezeit     162 non-null    object\n",
      " 3   standort      162 non-null    object\n",
      " 4   anfälligkeit  161 non-null    object\n",
      " 5   blüte         140 non-null    object\n",
      " 6   sonstiges     138 non-null    object\n",
      " 7   ind           173 non-null    object\n",
      "dtypes: object(8)\n",
      "memory usage: 16.2+ KB\n"
     ]
    }
   ],
   "source": [
    "df.head(5)\n",
    "df.info()"
   ]
  },
  {
   "cell_type": "code",
   "execution_count": null,
   "id": "07998117-48bc-41b7-9ac5-88f32fbaa16b",
   "metadata": {},
   "outputs": [],
   "source": []
  }
 ],
 "metadata": {
  "kernelspec": {
   "display_name": "base",
   "language": "python",
   "name": "python3"
  },
  "language_info": {
   "codemirror_mode": {
    "name": "ipython",
    "version": 3
   },
   "file_extension": ".py",
   "mimetype": "text/x-python",
   "name": "python",
   "nbconvert_exporter": "python",
   "pygments_lexer": "ipython3",
   "version": "3.11.5"
  }
 },
 "nbformat": 4,
 "nbformat_minor": 5
}
